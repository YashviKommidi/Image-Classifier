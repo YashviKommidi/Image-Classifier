{
  "nbformat": 4,
  "nbformat_minor": 0,
  "metadata": {
    "colab": {
      "name": "code1.ipynb",
      "provenance": []
    },
    "kernelspec": {
      "name": "python3",
      "display_name": "Python 3"
    },
    "language_info": {
      "name": "python"
    }
  },
  "cells": [
    {
      "cell_type": "code",
      "metadata": {
        "colab": {
          "base_uri": "https://localhost:8080/"
        },
        "id": "N0Sp6pHQJCB0",
        "outputId": "71e40b37-c9b2-4155-ae51-37c00382421e"
      },
      "source": [
        "from google.colab import drive\n",
        "drive.mount('/content/drive', force_remount=True)"
      ],
      "execution_count": 8,
      "outputs": [
        {
          "output_type": "stream",
          "text": [
            "Mounted at /content/drive\n"
          ],
          "name": "stdout"
        }
      ]
    },
    {
      "cell_type": "code",
      "metadata": {
        "colab": {
          "base_uri": "https://localhost:8080/"
        },
        "id": "R5lEQHIoJHfn",
        "outputId": "c3011430-f840-4c0e-fff1-e913f49b391c"
      },
      "source": [
        "import cv2,os\n",
        "datapath='/content/drive/MyDrive/Animals data/train/'\n",
        "categories=os.listdir(datapath)\n",
        "labels=[i for i in range(len(categories))]\n",
        "\n",
        "label_dict=dict(zip(categories,labels))\n",
        "\n",
        "print(labels)\n",
        "print(categories)\n",
        "print(label_dict)"
      ],
      "execution_count": 9,
      "outputs": [
        {
          "output_type": "stream",
          "text": [
            "[0, 1, 2, 3, 4, 5, 6, 7, 8, 9, 10, 11, 12, 13]\n",
            "['sheeps', 'pandas', 'tigers', 'squirrels', 'monkeys', 'rhinos', 'elephants', 'dogs', 'cats', 'horses', 'giraffes', 'lions', 'kangaroos', 'cows']\n",
            "{'sheeps': 0, 'pandas': 1, 'tigers': 2, 'squirrels': 3, 'monkeys': 4, 'rhinos': 5, 'elephants': 6, 'dogs': 7, 'cats': 8, 'horses': 9, 'giraffes': 10, 'lions': 11, 'kangaroos': 12, 'cows': 13}\n"
          ],
          "name": "stdout"
        }
      ]
    },
    {
      "cell_type": "code",
      "metadata": {
        "id": "_pOCGxygJbyc"
      },
      "source": [
        "image_size=64\n",
        "data=[]\n",
        "target=[]\n",
        "\n",
        "for category in categories:\n",
        "    folder_path=os.path.join(datapath,category)\n",
        "    img_names=os.listdir(folder_path)\n",
        "\n",
        "    for img_name in img_names:\n",
        "        img_path=os.path.join(folder_path,img_name)\n",
        "        img=cv2.imread(img_path)\n",
        "\n",
        "        try:\n",
        "            gray=cv2.cvtColor(img,cv2.COLOR_BGR2GRAY)\n",
        "            resized=cv2.resize(gray,(image_size,image_size))\n",
        "            data.append(resized)\n",
        "            target.append(label_dict[category])\n",
        "        except Exception as e:\n",
        "            print(\"Exception :\", e)"
      ],
      "execution_count": 11,
      "outputs": []
    },
    {
      "cell_type": "code",
      "metadata": {
        "id": "xX-DaY0XJiCS"
      },
      "source": [
        "import numpy as np\n",
        "\n",
        "data=np.array(data)/255.0\n",
        "data=np.reshape(data,(data.shape[0],image_size,image_size,1))\n",
        "target=np.array(target)\n",
        "\n",
        "from keras.utils import np_utils\n",
        "\n",
        "new_target=np_utils.to_categorical(target)"
      ],
      "execution_count": 12,
      "outputs": []
    },
    {
      "cell_type": "code",
      "metadata": {
        "id": "Aqf0aPI4OQ3p"
      },
      "source": [
        "np.save(\"/content/drive/MyDrive/Datanew\",data)\n",
        "np.save(\"/content/drive/MyDrive/Targetnew\",new_target)"
      ],
      "execution_count": 13,
      "outputs": []
    },
    {
      "cell_type": "code",
      "metadata": {
        "id": "67QaOWIPcpEo"
      },
      "source": [
        ""
      ],
      "execution_count": null,
      "outputs": []
    }
  ]
}