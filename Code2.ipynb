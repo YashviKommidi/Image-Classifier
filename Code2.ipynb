{
  "nbformat": 4,
  "nbformat_minor": 0,
  "metadata": {
    "accelerator": "TPU",
    "colab": {
      "name": "Code2.ipynb",
      "provenance": [],
      "collapsed_sections": []
    },
    "kernelspec": {
      "display_name": "Python 3",
      "name": "python3"
    },
    "language_info": {
      "name": "python"
    }
  },
  "cells": [
    {
      "cell_type": "code",
      "metadata": {
        "colab": {
          "base_uri": "https://localhost:8080/"
        },
        "id": "N0Sp6pHQJCB0",
        "outputId": "f5ecbbcc-9d0a-4633-d472-7b677f65c085"
      },
      "source": [
        "from google.colab import drive\n",
        "drive.mount('/content/drive', force_remount=True)"
      ],
      "execution_count": 2,
      "outputs": [
        {
          "output_type": "stream",
          "text": [
            "Mounted at /content/drive\n"
          ],
          "name": "stdout"
        }
      ]
    },
    {
      "cell_type": "code",
      "metadata": {
        "id": "1VAII8XBPBFq"
      },
      "source": [
        "import numpy as np\n",
        "\n",
        "data=np.load(\"/content/drive/MyDrive/Datanew.npy\")\n",
        "target=np.load(\"/content/drive/MyDrive/Targetnew.npy\")"
      ],
      "execution_count": 3,
      "outputs": []
    },
    {
      "cell_type": "code",
      "metadata": {
        "colab": {
          "base_uri": "https://localhost:8080/"
        },
        "id": "tEXuQZCK679g",
        "outputId": "de934a1f-95da-43a8-de47-3a6bfaaabf1c"
      },
      "source": [
        "data.shape"
      ],
      "execution_count": 4,
      "outputs": [
        {
          "output_type": "execute_result",
          "data": {
            "text/plain": [
              "(13957, 64, 64, 1)"
            ]
          },
          "metadata": {
            "tags": []
          },
          "execution_count": 4
        }
      ]
    },
    {
      "cell_type": "code",
      "metadata": {
        "id": "YbE25HM_Qd-L"
      },
      "source": [
        "import tensorflow as tf\n",
        "from tensorflow.keras.models import Sequential\n",
        "from tensorflow.keras.layers import Dense,Activation,Flatten,Dropout\n",
        "from tensorflow.keras.layers import Conv2D,MaxPooling2D\n",
        "from tensorflow.keras.callbacks import ModelCheckpoint\n",
        "\n",
        "model=tf.keras.models.Sequential([tf.keras.layers.Conv2D(512,(3,3),activation='relu',input_shape=data.shape[1:]),\n",
        "                                  tf.keras.layers.MaxPool2D(2,2),\n",
        "                                  #\n",
        "                                  tf.keras.layers.Conv2D(128,(3,3),activation='relu'),\n",
        "                                  tf.keras.layers.MaxPool2D(2,2),\n",
        "                                  #\n",
        "                                  tf.keras.layers.Conv2D(64,(3,3),activation='relu'),\n",
        "                                  tf.keras.layers.MaxPool2D(2,2),\n",
        "                                  #\n",
        "                                  tf.keras.layers.Conv2D(64,(3,3),activation='relu'),\n",
        "                                  tf.keras.layers.MaxPool2D(2,2),\n",
        "                                  tf.keras.layers.Flatten(),\n",
        "                                  ##\n",
        "                                  tf.keras.layers.Dense(1024,activation='relu'),\n",
        "                                  ##\n",
        "                                  tf.keras.layers.Dense(512,activation='relu'),\n",
        "                                  ##\n",
        "                                  tf.keras.layers.Dropout(0.5),\n",
        "                                  tf.keras.layers.Dense(14,activation='softmax')\n",
        "]\n",
        ")\n",
        "\n",
        "\n",
        "model.compile(loss='categorical_crossentropy',optimizer='adam',metrics=['accuracy'])"
      ],
      "execution_count": 10,
      "outputs": []
    },
    {
      "cell_type": "code",
      "metadata": {
        "id": "rXeApYbeShny"
      },
      "source": [
        "from sklearn.model_selection import train_test_split\n",
        "X_train,X_test,Y_train,Y_test=train_test_split(data,target,test_size=0.4)"
      ],
      "execution_count": 11,
      "outputs": []
    },
    {
      "cell_type": "code",
      "metadata": {
        "colab": {
          "base_uri": "https://localhost:8080/"
        },
        "id": "LhMyifXuSvWD",
        "outputId": "5bb47f54-284b-4eda-9038-9d74d2e26fa7"
      },
      "source": [
        "model.summary()"
      ],
      "execution_count": 12,
      "outputs": [
        {
          "output_type": "stream",
          "text": [
            "Model: \"sequential_1\"\n",
            "_________________________________________________________________\n",
            "Layer (type)                 Output Shape              Param #   \n",
            "=================================================================\n",
            "conv2d_4 (Conv2D)            (None, 62, 62, 512)       5120      \n",
            "_________________________________________________________________\n",
            "max_pooling2d_4 (MaxPooling2 (None, 31, 31, 512)       0         \n",
            "_________________________________________________________________\n",
            "conv2d_5 (Conv2D)            (None, 29, 29, 128)       589952    \n",
            "_________________________________________________________________\n",
            "max_pooling2d_5 (MaxPooling2 (None, 14, 14, 128)       0         \n",
            "_________________________________________________________________\n",
            "conv2d_6 (Conv2D)            (None, 12, 12, 64)        73792     \n",
            "_________________________________________________________________\n",
            "max_pooling2d_6 (MaxPooling2 (None, 6, 6, 64)          0         \n",
            "_________________________________________________________________\n",
            "conv2d_7 (Conv2D)            (None, 4, 4, 64)          36928     \n",
            "_________________________________________________________________\n",
            "max_pooling2d_7 (MaxPooling2 (None, 2, 2, 64)          0         \n",
            "_________________________________________________________________\n",
            "flatten_1 (Flatten)          (None, 256)               0         \n",
            "_________________________________________________________________\n",
            "dense_5 (Dense)              (None, 1024)              263168    \n",
            "_________________________________________________________________\n",
            "dense_6 (Dense)              (None, 512)               524800    \n",
            "_________________________________________________________________\n",
            "dropout_1 (Dropout)          (None, 512)               0         \n",
            "_________________________________________________________________\n",
            "dense_7 (Dense)              (None, 14)                7182      \n",
            "=================================================================\n",
            "Total params: 1,500,942\n",
            "Trainable params: 1,500,942\n",
            "Non-trainable params: 0\n",
            "_________________________________________________________________\n"
          ],
          "name": "stdout"
        }
      ]
    },
    {
      "cell_type": "code",
      "metadata": {
        "colab": {
          "base_uri": "https://localhost:8080/"
        },
        "id": "BGbjCfL2Tf3z",
        "outputId": "e6fca42b-95ff-4b94-de4e-aafc2db27782"
      },
      "source": [
        "X_train.shape"
      ],
      "execution_count": 13,
      "outputs": [
        {
          "output_type": "execute_result",
          "data": {
            "text/plain": [
              "(8374, 64, 64, 1)"
            ]
          },
          "metadata": {
            "tags": []
          },
          "execution_count": 13
        }
      ]
    },
    {
      "cell_type": "code",
      "metadata": {
        "colab": {
          "base_uri": "https://localhost:8080/"
        },
        "id": "o9NRDrV4Szjo",
        "outputId": "e29b46fd-a168-4fa5-d040-d6b5f9880a11"
      },
      "source": [
        "from tensorflow.keras.callbacks import ModelCheckpoint\n",
        "checkpoint=ModelCheckpoint('/content/drive/MyDrive/model-{epoch:03d}.model',monitor='val_loss',verbose=0,save_best_only=True,mode='auto')\n",
        "history=model.fit(X_train,Y_train,epochs=30,callbacks=[checkpoint],validation_split=0.2)"
      ],
      "execution_count": 14,
      "outputs": [
        {
          "output_type": "stream",
          "text": [
            "Epoch 1/30\n",
            "210/210 [==============================] - 521s 2s/step - loss: 2.5972 - accuracy: 0.0993 - val_loss: 2.5592 - val_accuracy: 0.1015\n",
            "INFO:tensorflow:Assets written to: /content/drive/MyDrive/model-001.model/assets\n",
            "Epoch 2/30\n",
            "210/210 [==============================] - 521s 2s/step - loss: 2.4580 - accuracy: 0.1499 - val_loss: 2.2601 - val_accuracy: 0.2227\n",
            "INFO:tensorflow:Assets written to: /content/drive/MyDrive/model-002.model/assets\n",
            "Epoch 3/30\n",
            "210/210 [==============================] - 519s 2s/step - loss: 2.2124 - accuracy: 0.2454 - val_loss: 2.0322 - val_accuracy: 0.3009\n",
            "INFO:tensorflow:Assets written to: /content/drive/MyDrive/model-003.model/assets\n",
            "Epoch 4/30\n",
            "210/210 [==============================] - 517s 2s/step - loss: 2.0029 - accuracy: 0.3245 - val_loss: 1.9869 - val_accuracy: 0.3361\n",
            "INFO:tensorflow:Assets written to: /content/drive/MyDrive/model-004.model/assets\n",
            "Epoch 5/30\n",
            "210/210 [==============================] - 516s 2s/step - loss: 1.8476 - accuracy: 0.3861 - val_loss: 1.9757 - val_accuracy: 0.3516\n",
            "INFO:tensorflow:Assets written to: /content/drive/MyDrive/model-005.model/assets\n",
            "Epoch 6/30\n",
            "210/210 [==============================] - 517s 2s/step - loss: 1.7033 - accuracy: 0.4240 - val_loss: 1.8263 - val_accuracy: 0.3910\n",
            "INFO:tensorflow:Assets written to: /content/drive/MyDrive/model-006.model/assets\n",
            "Epoch 7/30\n",
            "210/210 [==============================] - 517s 2s/step - loss: 1.5587 - accuracy: 0.4860 - val_loss: 1.8304 - val_accuracy: 0.4197\n",
            "Epoch 8/30\n",
            "210/210 [==============================] - 521s 2s/step - loss: 1.4257 - accuracy: 0.5186 - val_loss: 1.7880 - val_accuracy: 0.4299\n",
            "INFO:tensorflow:Assets written to: /content/drive/MyDrive/model-008.model/assets\n",
            "Epoch 9/30\n",
            "210/210 [==============================] - 522s 2s/step - loss: 1.2318 - accuracy: 0.5807 - val_loss: 1.8359 - val_accuracy: 0.4346\n",
            "Epoch 10/30\n",
            "210/210 [==============================] - 519s 2s/step - loss: 1.1032 - accuracy: 0.6220 - val_loss: 1.8888 - val_accuracy: 0.4370\n",
            "Epoch 11/30\n",
            "210/210 [==============================] - 518s 2s/step - loss: 0.9793 - accuracy: 0.6685 - val_loss: 1.9652 - val_accuracy: 0.4406\n",
            "Epoch 12/30\n",
            "210/210 [==============================] - 518s 2s/step - loss: 0.7889 - accuracy: 0.7401 - val_loss: 2.1133 - val_accuracy: 0.4346\n",
            "Epoch 13/30\n",
            "210/210 [==============================] - 519s 2s/step - loss: 0.6640 - accuracy: 0.7733 - val_loss: 2.4241 - val_accuracy: 0.4388\n",
            "Epoch 14/30\n",
            "210/210 [==============================] - 518s 2s/step - loss: 0.5537 - accuracy: 0.8117 - val_loss: 2.7760 - val_accuracy: 0.4316\n",
            "Epoch 15/30\n",
            "210/210 [==============================] - 518s 2s/step - loss: 0.4258 - accuracy: 0.8587 - val_loss: 2.7547 - val_accuracy: 0.4364\n",
            "Epoch 16/30\n",
            "210/210 [==============================] - 518s 2s/step - loss: 0.3409 - accuracy: 0.8880 - val_loss: 3.0633 - val_accuracy: 0.4299\n",
            "Epoch 17/30\n",
            "210/210 [==============================] - 518s 2s/step - loss: 0.2683 - accuracy: 0.9121 - val_loss: 3.2679 - val_accuracy: 0.4406\n",
            "Epoch 18/30\n",
            "210/210 [==============================] - 518s 2s/step - loss: 0.1843 - accuracy: 0.9439 - val_loss: 3.7005 - val_accuracy: 0.4293\n",
            "Epoch 19/30\n",
            "210/210 [==============================] - 518s 2s/step - loss: 0.1962 - accuracy: 0.9400 - val_loss: 3.5660 - val_accuracy: 0.4245\n",
            "Epoch 20/30\n",
            "210/210 [==============================] - 518s 2s/step - loss: 0.1984 - accuracy: 0.9411 - val_loss: 3.5762 - val_accuracy: 0.4334\n",
            "Epoch 21/30\n",
            "210/210 [==============================] - 519s 2s/step - loss: 0.1486 - accuracy: 0.9515 - val_loss: 4.0616 - val_accuracy: 0.4299\n",
            "Epoch 22/30\n",
            "210/210 [==============================] - 519s 2s/step - loss: 0.1308 - accuracy: 0.9623 - val_loss: 4.5236 - val_accuracy: 0.4287\n",
            "Epoch 23/30\n",
            "210/210 [==============================] - 516s 2s/step - loss: 0.2060 - accuracy: 0.9361 - val_loss: 3.8428 - val_accuracy: 0.4269\n",
            "Epoch 24/30\n",
            "210/210 [==============================] - 518s 2s/step - loss: 0.1224 - accuracy: 0.9620 - val_loss: 4.3874 - val_accuracy: 0.4478\n",
            "Epoch 25/30\n",
            "210/210 [==============================] - 516s 2s/step - loss: 0.0991 - accuracy: 0.9706 - val_loss: 4.4967 - val_accuracy: 0.4406\n",
            "Epoch 26/30\n",
            "210/210 [==============================] - 518s 2s/step - loss: 0.1007 - accuracy: 0.9696 - val_loss: 4.5709 - val_accuracy: 0.4334\n",
            "Epoch 27/30\n",
            "210/210 [==============================] - 521s 2s/step - loss: 0.1280 - accuracy: 0.9649 - val_loss: 4.5779 - val_accuracy: 0.4418\n",
            "Epoch 28/30\n",
            "210/210 [==============================] - 518s 2s/step - loss: 0.1458 - accuracy: 0.9536 - val_loss: 4.4241 - val_accuracy: 0.4340\n",
            "Epoch 29/30\n",
            "210/210 [==============================] - 520s 2s/step - loss: 0.0826 - accuracy: 0.9753 - val_loss: 4.8153 - val_accuracy: 0.4370\n",
            "Epoch 30/30\n",
            "210/210 [==============================] - 519s 2s/step - loss: 0.1229 - accuracy: 0.9615 - val_loss: 4.7552 - val_accuracy: 0.4096\n"
          ],
          "name": "stdout"
        }
      ]
    },
    {
      "cell_type": "code",
      "metadata": {
        "colab": {
          "base_uri": "https://localhost:8080/",
          "height": 281
        },
        "id": "wsSx6kl7S_hr",
        "outputId": "6de71a81-3dab-43ca-fb0e-9384b7ebaf0f"
      },
      "source": [
        "from matplotlib import pyplot as plt\n",
        "\n",
        "plt.plot(history.history['loss'],'r',label='training loss')\n",
        "plt.plot(history.history['val_loss'],'b',label='validation loss')\n",
        "plt.xlabel('epoch')\n",
        "plt.ylabel('loss')\n",
        "plt.legend()\n",
        "plt.show()"
      ],
      "execution_count": 15,
      "outputs": [
        {
          "output_type": "display_data",
          "data": {
            "image/png": "[encoded data removed]",
            "text/plain": [
              "<Figure size 432x288 with 1 Axes>"
            ]
          },
          "metadata": {
            "tags": [],
            "needs_background": "light"
          }
        }
      ]
    },
    {
      "cell_type": "code",
      "metadata": {
        "colab": {
          "base_uri": "https://localhost:8080/",
          "height": 279
        },
        "id": "lGH5wWbDVfcy",
        "outputId": "b57b6fa6-05ff-440e-8b40-de44fb12c4b9"
      },
      "source": [
        "plt.plot(history.history['accuracy'],'r',label='training accuracy')\n",
        "plt.plot(history.history['val_accuracy'],'b',label='validation accuracy')\n",
        "plt.xlabel('epoch')\n",
        "plt.ylabel('accuracy')\n",
        "plt.legend()\n",
        "plt.show()"
      ],
      "execution_count": 16,
      "outputs": [
        {
          "output_type": "display_data",
          "data": {
            "image/png": "[encoded data removed]",
            "text/plain": [
              "<Figure size 432x288 with 1 Axes>"
            ]
          },
          "metadata": {
            "tags": [],
            "needs_background": "light"
          }
        }
      ]
    },
    {
      "cell_type": "code",
      "metadata": {
        "colab": {
          "base_uri": "https://localhost:8080/"
        },
        "id": "xVhuBXUVVfoi",
        "outputId": "fdc2052b-9b89-425a-d862-4d215423c121"
      },
      "source": [
        "print(model.evaluate(X_test,Y_test))"
      ],
      "execution_count": 17,
      "outputs": [
        {
          "output_type": "stream",
          "text": [
            "175/175 [==============================] - 108s 616ms/step - loss: 4.5956 - accuracy: 0.4301\n",
            "[4.595606803894043, 0.43005552887916565]\n"
          ],
          "name": "stdout"
        }
      ]
    },
    {
      "cell_type": "code",
      "metadata": {
        "id": "Zh4tUBPqwcQT"
      },
      "source": [
        ""
      ],
      "execution_count": null,
      "outputs": []
    }
  ]
}