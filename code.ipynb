{
 "cells": [
  {
   "cell_type": "code",
   "execution_count": 2,
   "metadata": {},
   "outputs": [],
   "source": [
    "from tensorflow.keras.models import load_model\n",
    "import cv2\n",
    "import numpy as np\n",
    "\n",
    "    "
   ]
  },
  {
   "cell_type": "code",
   "execution_count": 13,
   "metadata": {},
   "outputs": [],
   "source": [
    "model=load_model(\"model-008.model\")\n",
    "\n",
    "clsfr=cv2.CascadeClassifier('cascade.xml')\n",
    "\n",
    "\n",
    "source=cv2.VideoCapture(0)\n",
    "\n",
    "\n",
    "labels_dict={0:'sheeps',1:'pandas',2:'tigers',3:'squirrels',4:'monkeys',5:'rhinos',6:'elephants',7:'dogs',8:'cats',9:'horses',10:'giraffes',11:'lions',12:'kangaroos',13:'cows'}\n",
    "color_dict={0:(255,26,0),1:(255,26,255),2:(26,255,255),3:(26,130,255),4:(26,27,28),5:(174,146,38),6:(126,8,174),7:(201,49,11),8:(195,87,166),9:(129,119,127),10:(127,159,193),11:(230,212,193),12:(90,119,65),13:(80,4,57)}"
   ]
  },
  {
   "cell_type": "code",
   "execution_count": 14,
   "metadata": {},
   "outputs": [],
   "source": [
    "while(True):\n",
    "    ret,img=source.read()\n",
    "    gray=cv2.cvtColor(img,cv2.COLOR_BGR2GRAY)\n",
    "    ani=clsfr.detectMultiScale(gray,1.3,1)\n",
    "    \n",
    "    for x,y,w,h in ani:\n",
    "        ani_img=gray[y:y+w,x:x+w]\n",
    "        resized=cv2.resize(ani_img,(64,64))\n",
    "        normalized=resized/255.0\n",
    "        reshaped=np.reshape(normalized,(1,64,64,1))\n",
    "        result=model.predict(reshaped)\n",
    "    \n",
    "        label=np.argmax(result,axis=1)[0]\n",
    "    \n",
    "        cv2.rectangle(img,(x,y),(x+w,y+h),color_dict[label],2)\n",
    "        cv2.rectangle(img,(x,y-40),(x+w,y),color_dict[label],-1)\n",
    "        cv2.putText(img,labels_dict[label],(x,y-10),cv2.FONT_HERSHEY_SIMPLEX,0.8,(255,255,255),2)\n",
    "    \n",
    "    cv2.imshow('LIVE',img)\n",
    "    key=cv2.waitKey(1)\n",
    "\n",
    "    if(key==27):\n",
    "        break\n",
    "    \n",
    "cv2.destroyAllWindows()\n",
    "source.release()\n",
    "    \n",
    "    \n",
    "    \n",
    "    "
   ]
  },
  {
   "cell_type": "code",
   "execution_count": null,
   "metadata": {},
   "outputs": [],
   "source": []
  },
  {
   "cell_type": "code",
   "execution_count": null,
   "metadata": {},
   "outputs": [],
   "source": []
  },
  {
   "cell_type": "code",
   "execution_count": null,
   "metadata": {},
   "outputs": [],
   "source": []
  }
 ],
 "metadata": {
  "kernelspec": {
   "display_name": "Python 3",
   "language": "python",
   "name": "python3"
  },
  "language_info": {
   "codemirror_mode": {
    "name": "ipython",
    "version": 3
   },
   "file_extension": ".py",
   "mimetype": "text/x-python",
   "name": "python",
   "nbconvert_exporter": "python",
   "pygments_lexer": "ipython3",
   "version": "3.8.3"
  },
  "metadata": {
   "interpreter": {
    "hash": "99a6b69056f6555abd97450097af4740eb9e2c80404a8efa70cccae0f9424b9b"
   }
  }
 },
 "nbformat": 4,
 "nbformat_minor": 2
}
